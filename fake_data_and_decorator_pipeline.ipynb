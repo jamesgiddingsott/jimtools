{
  "nbformat": 4,
  "nbformat_minor": 0,
  "metadata": {
    "colab": {
      "provenance": []
    },
    "kernelspec": {
      "name": "python3",
      "display_name": "Python 3"
    },
    "language_info": {
      "name": "python"
    }
  },
  "cells": [
    {
      "cell_type": "markdown",
      "source": [
        "# IMPORTS"
      ],
      "metadata": {
        "id": "vu1loDsqcVjw"
      }
    },
    {
      "cell_type": "code",
      "source": [
        "import pandas as pd\n",
        "import numpy as np"
      ],
      "metadata": {
        "id": "jgvWyQV6cQgg"
      },
      "execution_count": 80,
      "outputs": []
    },
    {
      "cell_type": "markdown",
      "source": [
        "# Fake Data Functions"
      ],
      "metadata": {
        "id": "hHxpTWGKcZY_"
      }
    },
    {
      "cell_type": "code",
      "execution_count": 99,
      "metadata": {
        "id": "cbCc2LX7b7yC"
      },
      "outputs": [],
      "source": [
        "def get_dataset(size):\n",
        "    # Create Fake Dataset\n",
        "    df = pd.DataFrame()\n",
        "    df['size'] = np.random.choice(['big','medium','small'], size)\n",
        "    df['age'] = np.random.randint(1, 50, size)\n",
        "    df[' TeaM'] = np.random.choice(['red','blue','yellow','green'], size)\n",
        "    df['win'] = np.random.choice(['yes','no'], size)\n",
        "    dates = pd.date_range('2020-01-01', '2022-12-31')\n",
        "    df['Date'] = np.random.choice(dates, size)\n",
        "    df['prob Uniform'] = np.random.uniform(0, 1, size)\n",
        "    return df\n",
        "\n",
        "def set_dtypes(df):\n",
        "    df['size'] = df['size'].astype('category')\n",
        "    df[' TeaM'] = df['team'].astype('category')\n",
        "    df['age'] = df['age'].astype('int16')\n",
        "    df['win'] = df['win'].map({'yes':True, 'no': False})\n",
        "    df['prob Uniform'] = df['prob'].astype('float32')\n",
        "    return df"
      ]
    },
    {
      "cell_type": "code",
      "source": [
        "df = get_dataset(1_000_000)\n",
        "df.head(2)"
      ],
      "metadata": {
        "colab": {
          "base_uri": "https://localhost:8080/",
          "height": 112
        },
        "id": "uiQ5us2whw7h",
        "outputId": "775c009f-3bd1-4d80-8cbb-252931c37594"
      },
      "execution_count": 100,
      "outputs": [
        {
          "output_type": "execute_result",
          "data": {
            "text/plain": [
              "     size  age    TeaM  win       Date  prob Uniform\n",
              "0   small   35  yellow   no 2020-08-01      0.241785\n",
              "1  medium   46     red  yes 2022-09-08      0.984789"
            ],
            "text/html": [
              "\n",
              "  <div id=\"df-64f0d27c-b0c6-4f4c-a49f-f1b4dc9fc6e0\">\n",
              "    <div class=\"colab-df-container\">\n",
              "      <div>\n",
              "<style scoped>\n",
              "    .dataframe tbody tr th:only-of-type {\n",
              "        vertical-align: middle;\n",
              "    }\n",
              "\n",
              "    .dataframe tbody tr th {\n",
              "        vertical-align: top;\n",
              "    }\n",
              "\n",
              "    .dataframe thead th {\n",
              "        text-align: right;\n",
              "    }\n",
              "</style>\n",
              "<table border=\"1\" class=\"dataframe\">\n",
              "  <thead>\n",
              "    <tr style=\"text-align: right;\">\n",
              "      <th></th>\n",
              "      <th>size</th>\n",
              "      <th>age</th>\n",
              "      <th>TeaM</th>\n",
              "      <th>win</th>\n",
              "      <th>Date</th>\n",
              "      <th>prob Uniform</th>\n",
              "    </tr>\n",
              "  </thead>\n",
              "  <tbody>\n",
              "    <tr>\n",
              "      <th>0</th>\n",
              "      <td>small</td>\n",
              "      <td>35</td>\n",
              "      <td>yellow</td>\n",
              "      <td>no</td>\n",
              "      <td>2020-08-01</td>\n",
              "      <td>0.241785</td>\n",
              "    </tr>\n",
              "    <tr>\n",
              "      <th>1</th>\n",
              "      <td>medium</td>\n",
              "      <td>46</td>\n",
              "      <td>red</td>\n",
              "      <td>yes</td>\n",
              "      <td>2022-09-08</td>\n",
              "      <td>0.984789</td>\n",
              "    </tr>\n",
              "  </tbody>\n",
              "</table>\n",
              "</div>\n",
              "      <button class=\"colab-df-convert\" onclick=\"convertToInteractive('df-64f0d27c-b0c6-4f4c-a49f-f1b4dc9fc6e0')\"\n",
              "              title=\"Convert this dataframe to an interactive table.\"\n",
              "              style=\"display:none;\">\n",
              "        \n",
              "  <svg xmlns=\"http://www.w3.org/2000/svg\" height=\"24px\"viewBox=\"0 0 24 24\"\n",
              "       width=\"24px\">\n",
              "    <path d=\"M0 0h24v24H0V0z\" fill=\"none\"/>\n",
              "    <path d=\"M18.56 5.44l.94 2.06.94-2.06 2.06-.94-2.06-.94-.94-2.06-.94 2.06-2.06.94zm-11 1L8.5 8.5l.94-2.06 2.06-.94-2.06-.94L8.5 2.5l-.94 2.06-2.06.94zm10 10l.94 2.06.94-2.06 2.06-.94-2.06-.94-.94-2.06-.94 2.06-2.06.94z\"/><path d=\"M17.41 7.96l-1.37-1.37c-.4-.4-.92-.59-1.43-.59-.52 0-1.04.2-1.43.59L10.3 9.45l-7.72 7.72c-.78.78-.78 2.05 0 2.83L4 21.41c.39.39.9.59 1.41.59.51 0 1.02-.2 1.41-.59l7.78-7.78 2.81-2.81c.8-.78.8-2.07 0-2.86zM5.41 20L4 18.59l7.72-7.72 1.47 1.35L5.41 20z\"/>\n",
              "  </svg>\n",
              "      </button>\n",
              "      \n",
              "  <style>\n",
              "    .colab-df-container {\n",
              "      display:flex;\n",
              "      flex-wrap:wrap;\n",
              "      gap: 12px;\n",
              "    }\n",
              "\n",
              "    .colab-df-convert {\n",
              "      background-color: #E8F0FE;\n",
              "      border: none;\n",
              "      border-radius: 50%;\n",
              "      cursor: pointer;\n",
              "      display: none;\n",
              "      fill: #1967D2;\n",
              "      height: 32px;\n",
              "      padding: 0 0 0 0;\n",
              "      width: 32px;\n",
              "    }\n",
              "\n",
              "    .colab-df-convert:hover {\n",
              "      background-color: #E2EBFA;\n",
              "      box-shadow: 0px 1px 2px rgba(60, 64, 67, 0.3), 0px 1px 3px 1px rgba(60, 64, 67, 0.15);\n",
              "      fill: #174EA6;\n",
              "    }\n",
              "\n",
              "    [theme=dark] .colab-df-convert {\n",
              "      background-color: #3B4455;\n",
              "      fill: #D2E3FC;\n",
              "    }\n",
              "\n",
              "    [theme=dark] .colab-df-convert:hover {\n",
              "      background-color: #434B5C;\n",
              "      box-shadow: 0px 1px 3px 1px rgba(0, 0, 0, 0.15);\n",
              "      filter: drop-shadow(0px 1px 2px rgba(0, 0, 0, 0.3));\n",
              "      fill: #FFFFFF;\n",
              "    }\n",
              "  </style>\n",
              "\n",
              "      <script>\n",
              "        const buttonEl =\n",
              "          document.querySelector('#df-64f0d27c-b0c6-4f4c-a49f-f1b4dc9fc6e0 button.colab-df-convert');\n",
              "        buttonEl.style.display =\n",
              "          google.colab.kernel.accessAllowed ? 'block' : 'none';\n",
              "\n",
              "        async function convertToInteractive(key) {\n",
              "          const element = document.querySelector('#df-64f0d27c-b0c6-4f4c-a49f-f1b4dc9fc6e0');\n",
              "          const dataTable =\n",
              "            await google.colab.kernel.invokeFunction('convertToInteractive',\n",
              "                                                     [key], {});\n",
              "          if (!dataTable) return;\n",
              "\n",
              "          const docLinkHtml = 'Like what you see? Visit the ' +\n",
              "            '<a target=\"_blank\" href=https://colab.research.google.com/notebooks/data_table.ipynb>data table notebook</a>'\n",
              "            + ' to learn more about interactive tables.';\n",
              "          element.innerHTML = '';\n",
              "          dataTable['output_type'] = 'display_data';\n",
              "          await google.colab.output.renderOutput(dataTable, element);\n",
              "          const docLink = document.createElement('div');\n",
              "          docLink.innerHTML = docLinkHtml;\n",
              "          element.appendChild(docLink);\n",
              "        }\n",
              "      </script>\n",
              "    </div>\n",
              "  </div>\n",
              "  "
            ]
          },
          "metadata": {},
          "execution_count": 100
        }
      ]
    },
    {
      "cell_type": "markdown",
      "source": [
        "# Pandas Pipelining"
      ],
      "metadata": {
        "id": "-LN8QIV4ePD4"
      }
    },
    {
      "cell_type": "markdown",
      "source": [
        "### Data Functions"
      ],
      "metadata": {
        "id": "ssrIJOINeavQ"
      }
    },
    {
      "cell_type": "code",
      "source": [
        "import datetime as dt\n",
        "\n",
        "def loggg(f):\n",
        "  # decorator to add calc times and logging\n",
        "  def wrapper(dataf, *args, **kwargs):\n",
        "    tic = dt.datetime.now()\n",
        "    result = f(dataf, *args, **kwargs)\n",
        "    toc = dt.datetime.now()\n",
        "    print(f\"****::{f.__name__}, took = {toc - tic}, shape:{result.shape}\")\n",
        "    return result\n",
        "  return wrapper\n",
        "\n",
        "\n",
        "@loggg\n",
        "def clean_dataset_columns(dataf):\n",
        "  dataf.columns = [col.lstrip().rstrip().lower().replace (\" \", \"_\") for col in dataf]\n",
        "  return dataf\n",
        "\n",
        "@loggg\n",
        "def remove_outliers(dataf):\n",
        "  return dataf\n",
        "\n",
        "@loggg\n",
        "def start_pipeline(dataf):\n",
        "  dataf = dataf.copy()\n",
        "  return dataf\n",
        "\n",
        "@loggg\n",
        "def clean_dataset(dataf):\n",
        "  \"\"\"\n",
        "  Place holder for any specific cleaning steps that can then be piped into \n",
        "  the processing allowing one to see processing time and simplify the layout\n",
        "  of the notebook.  All specific cleaning steps will be here.\n",
        "  \"\"\"\n",
        "  return dataf\n",
        "\n",
        "@loggg\n",
        "def missing_data(dataf):\n",
        "  \"\"\"\n",
        "  Calculate max count in each column compare each column vs max\n",
        "  \"\"\"\n",
        "  return dataf\n",
        "\n",
        "\n",
        "@loggg\n",
        "def assess_NA(data):\n",
        "    \"\"\"\n",
        "    Returns a pandas dataframe denoting the total number of NA values and the percentage of NA values in each column.\n",
        "    The column names are noted on the index.\n",
        "    \n",
        "    Parameters\n",
        "    ----------\n",
        "    data: dataframe\n",
        "    \"\"\"\n",
        "    # pandas series denoting features and the sum of their null values\n",
        "    null_sum = data.isnull().sum()# instantiate columns for missing data\n",
        "    total = null_sum.sort_values(ascending=False)\n",
        "    percent = ( ((null_sum / len(data.index))*100).round(2) ).sort_values(ascending=False)\n",
        "    \n",
        "    # concatenate along the columns to create the complete dataframe\n",
        "    df_NA = pd.concat([total, percent], axis=1, keys=['num_NA', 'pct_NA'])\n",
        "    \n",
        "    # drop rows that don't have any missing data; omit if you want to keep all rows\n",
        "    # df_NA = df_NA[ (df_NA.T != 0).any() ]\n",
        "\n",
        "    print('-'*35)\n",
        "    print(df_NA)\n",
        "    print('-'*35)\n",
        "    return data\n",
        "\n",
        "\n",
        "@loggg\n",
        "def info_and_describe(dataf):\n",
        "  print('-'*35)\n",
        "  print(dataf.info())\n",
        "  print('-'*35)\n",
        "  print(dataf.describe())\n",
        "  print('-'*35)\n",
        "  return dataf\n",
        "\n",
        "@loggg\n",
        "def basic_return(dataf):\n",
        "  return dataf"
      ],
      "metadata": {
        "id": "4wN9HK44coyQ"
      },
      "execution_count": 105,
      "outputs": []
    },
    {
      "cell_type": "code",
      "source": [
        "clean_df = (df\n",
        "            .pipe(start_pipeline)\n",
        "            .pipe(clean_dataset_columns)\n",
        "            .pipe(assess_NA)\n",
        "            .pipe(info_and_describe)\n",
        "            .pipe(basic_return)\n",
        "            )"
      ],
      "metadata": {
        "colab": {
          "base_uri": "https://localhost:8080/"
        },
        "id": "ldinLabCePkQ",
        "outputId": "5d21635d-50de-4e45-ff23-c7fb756b9dd3"
      },
      "execution_count": 106,
      "outputs": [
        {
          "output_type": "stream",
          "name": "stdout",
          "text": [
            "****::start_pipeline, took = 0:00:00.197910, shape:(1000000, 6)\n",
            "****::clean_dataset_columns, took = 0:00:00.000549, shape:(1000000, 6)\n",
            "-----------------------------------\n",
            "              num_NA  pct_NA\n",
            "size               0     0.0\n",
            "age                0     0.0\n",
            "team               0     0.0\n",
            "win                0     0.0\n",
            "date               0     0.0\n",
            "prob_uniform       0     0.0\n",
            "-----------------------------------\n",
            "****::assess_NA, took = 0:00:00.975006, shape:(1000000, 6)\n",
            "-----------------------------------\n",
            "<class 'pandas.core.frame.DataFrame'>\n",
            "RangeIndex: 1000000 entries, 0 to 999999\n",
            "Data columns (total 6 columns):\n",
            " #   Column        Non-Null Count    Dtype         \n",
            "---  ------        --------------    -----         \n",
            " 0   size          1000000 non-null  object        \n",
            " 1   age           1000000 non-null  int64         \n",
            " 2   team          1000000 non-null  object        \n",
            " 3   win           1000000 non-null  object        \n",
            " 4   date          1000000 non-null  datetime64[ns]\n",
            " 5   prob_uniform  1000000 non-null  float64       \n",
            "dtypes: datetime64[ns](1), float64(1), int64(1), object(3)\n",
            "memory usage: 45.8+ MB\n",
            "None\n",
            "-----------------------------------\n",
            "                  age  prob_uniform\n",
            "count  1000000.000000  1.000000e+06\n",
            "mean        24.980067  4.991957e-01\n",
            "std         14.135470  2.889113e-01\n",
            "min          1.000000  8.964419e-07\n",
            "25%         13.000000  2.487636e-01\n",
            "50%         25.000000  4.987474e-01\n",
            "75%         37.000000  7.495257e-01\n",
            "max         49.000000  9.999983e-01\n",
            "-----------------------------------\n",
            "****::info_and_describe, took = 0:00:00.633682, shape:(1000000, 6)\n",
            "****::basic_return, took = 0:00:00.000003, shape:(1000000, 6)\n"
          ]
        }
      ]
    },
    {
      "cell_type": "code",
      "source": [],
      "metadata": {
        "id": "EddcKuxwjqzQ"
      },
      "execution_count": 106,
      "outputs": []
    }
  ]
}